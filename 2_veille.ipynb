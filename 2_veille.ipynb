{
 "cells": [
  {
   "cell_type": "markdown",
   "metadata": {},
   "source": [
    "### En utilisant le format, réalisez une veille sur les modèles de times series. Votre veille doit intégrer les modèles:\n",
    "####  - ARIMA, SARIMA, VARIMAX\n",
    "####  - Prophet\n",
    "####  - XGBoost\n",
    "\n",
    "# ___________________________________________________________"
   ]
  },
  {
   "cell_type": "markdown",
   "metadata": {},
   "source": [
    " \n",
    "# Modèles de séries temporelles\n",
    "\n",
    "## `ARIMA` (AutoRegressive Integrated Moving Average)\n",
    "\n",
    "ARIMA est une méthode de prévision pour les données de séries temporelles univariées. ARIMA utilise les valeurs passées et les erreurs de prévision passées pour prédire les valeurs futures. Par exemple, on peut utiliser ARIMA pour prédire les ventes d'un magasin de vêtements en fonction des ventes passées.\n",
    "\n",
    "\n",
    " `AR` (AutoRegressive) : Cela signifie que le modèle utilise la dépendance entre une observation et un certain nombre d’observations passées.  \n",
    "`I` (Integrated) : Cela signifie que le modèle utilise la différenciation des observations brutes (par exemple, soustraire une observation à l’observation à l’étape de temps précédente) pour rendre la série chronologique stationnaire.  \n",
    " `MA` (Moving Average) : Cela signifie que le modèle utilise la dépendance entre une observation et une erreur résiduelle à partir d’un modèle de moyenne mobile appliqué à des observations retardées1.  \n",
    "\n",
    "- **Exemple 1** : Prévision des ventes d'un magasin en utilisant les données de ventes passées. On peut utiliser le modèle ARIMA pour analyser les données de ventes passées et prédire les ventes futures.\n",
    "- **Exemple 2** : Prévision du prix des actions en utilisant les données historiques des prix des actions. On peut utiliser le modèle ARIMA pour analyser les données historiques des prix des actions et prédire les prix futurs.\n",
    "\n",
    "source  - https://www.machinelearningplus.com/time-series/arima-model-time-series-forecasting-python/  \n",
    "source  - https://www.investopedia.com/terms/a/autoregressive-integrated-moving-average-arima.asp  \n",
    "\n",
    "## `SARIMA `(Seasonal AutoRegressive Integrated Moving Average)\n",
    "\n",
    "SARIMA est une extension de ARIMA qui prend explicitement en compte la composante saisonnière dans les données de séries temporelles univariées. Par exemple, SARIMA peut être utilisé pour prévoir les ventes d'appareils électroniques pendant la saison des fêtes.\n",
    "\n",
    "- **Exemple 1** : Prévision des ventes d'appareils électroniques pendant la saison des fêtes en utilisant les données de ventes passées. On peut utiliser le modèle SARIMA pour analyser les données de ventes passées et prédire les ventes futures pendant la saison des fêtes.\n",
    "- **Exemple 2** : Prévision de la température moyenne dans un lieu ayant quatre saisons en utilisant les données historiques de température. On peut utiliser le modèle SARIMA pour analyser les données historiques de température et prédire la température moyenne future.\n",
    "\n",
    "source  - https://machinelearningmastery.com/sarima-for-time-series-forecasting-in-python/  \n",
    "source  - https://openclassrooms.com/fr/courses/4525371-analysez-et-modelisez-des-series-temporelles/5001236-entrainez-des-modeles-sarima  \n",
    "source  - https://medium.com/analytics-vidhya/time-series-analysis-with-sarima-model-26ed620bbc0f  \n",
    "\n",
    "## `VARIMAX`\n",
    "\n",
    "VARIMAX est une méthode de rotation utilisée en analyse factorielle. L'idée de base est que vous pouvez souvent faire tourner les composantes principales pour rendre les vecteurs de chargement plus dispersés. Cela conduit généralement à des composantes principales plus interprétables et donc à une meilleure analyse exploratoire des données.\n",
    "\n",
    "- **Exemple 1** : Interprétation des facteurs principaux dans l'analyse des données sur le climat, le logement, la santé, la criminalité, le transport, l'éducation, les arts, les loisirs et l'économie. On peut utiliser la méthode VARIMAX pour rendre ces facteurs plus interprétables.\n",
    "- **Exemple 2** : Utilisation de VARIMAX dans l'analyse factorielle pour rendre les vecteurs de chargement plus dispersés et donc plus interprétables. On peut utiliser la méthode VARIMAX pour rendre ces vecteurs plus interprétables.\n",
    "\n",
    "source  - https://stats.stackexchange.com/questions/144966/what-does-varimax-mean-in-factor-analysis  \n",
    "source  - https://en.wikipedia.org/wiki/Varimax_rotation  \n",
    "source  - https://www.statsmodels.org/dev/examples/notebooks/generated/statespace_varmax.html  \n"
   ]
  },
  {
   "cell_type": "markdown",
   "metadata": {},
   "source": [
    "####  - ARIMA\n"
   ]
  },
  {
   "cell_type": "code",
   "execution_count": null,
   "metadata": {},
   "outputs": [],
   "source": [
    "import pandas as pd\n",
    "import numpy as np\n",
    "import matplotlib.pyplot as plt\n",
    "from statsmodels.tsa.arima.model import ARIMA\n",
    "\n",
    "# Création d'une série temporelle de données factices\n",
    "np.random.seed(0)\n",
    "n = 100\n",
    "alpha = 0.6\n",
    "e = np.random.normal(size=n)\n",
    "y = np.zeros_like(e)\n",
    "for t in range(1, n):\n",
    "    y[t] = alpha * y[t-1] + e[t]\n",
    "\n",
    "# Ajustement du modèle ARIMA\n",
    "model = ARIMA(y, order=(1,0,0))\n",
    "model_fit = model.fit()\n",
    "\n",
    "# Prédiction des 10 prochaines valeurs\n",
    "pred = model_fit.predict(start=len(y), end=len(y)+10)\n",
    "\n",
    "# Affichage des résultats\n",
    "plt.figure(figsize=(12,6))\n",
    "plt.plot(range(len(y)), y, label='y')\n",
    "plt.plot(range(len(y), len(y)+len(pred)), pred, label='Prédiction')\n",
    "plt.legend()\n",
    "plt.show()\n"
   ]
  },
  {
   "cell_type": "markdown",
   "metadata": {},
   "source": [
    "####  -  SARIMA\n"
   ]
  },
  {
   "cell_type": "code",
   "execution_count": null,
   "metadata": {},
   "outputs": [],
   "source": [
    "import pandas as pd\n",
    "import matplotlib.pyplot as plt\n",
    "from statsmodels.tsa.statespace.sarimax import SARIMAX\n",
    "\n",
    "# Création d'une série temporelle de données factices\n",
    "np.random.seed(0)\n",
    "n = 100\n",
    "alpha = 0.6\n",
    "e = np.random.normal(size=n)\n",
    "y = np.zeros_like(e)\n",
    "for t in range(1, n):\n",
    "    y[t] = alpha * y[t-1] + e[t]\n",
    "\n",
    "# Ajustement du modèle SARIMA\n",
    "model = SARIMAX(y, order=(1,0,0), seasonal_order=(1,0,0,12))\n",
    "model_fit = model.fit()\n",
    "\n",
    "# Prédiction des 10 prochaines valeurs\n",
    "pred = model_fit.predict(start=len(y), end=len(y)+10)\n",
    "\n",
    "# Affichage des résultats\n",
    "plt.figure(figsize=(12,6))\n",
    "plt.plot(range(len(y)), y, label='y')\n",
    "plt.plot(range(len(y), len(y)+len(pred)), pred, label='Prédiction')\n",
    "plt.legend()\n",
    "plt.show()\n"
   ]
  },
  {
   "cell_type": "markdown",
   "metadata": {},
   "source": [
    "####  -  VARIMAX\n"
   ]
  },
  {
   "cell_type": "code",
   "execution_count": null,
   "metadata": {},
   "outputs": [],
   "source": [
    "import numpy as np\n",
    "\n",
    "def varimax(Phi, gamma = 1.0, q = 20, tol = 1e-6):\n",
    "    from numpy import eye, asarray, dot, sum\n",
    "    from numpy.linalg import svd\n",
    "    p,k = Phi.shape\n",
    "    R = eye(k)\n",
    "    d=0\n",
    "    for i in range(q):\n",
    "        d_old = d\n",
    "        Lambda = dot(Phi, R)\n",
    "        u,s,vh = svd(dot(Phi.T,asarray(Lambda)**3 - (gamma/p) * dot(Lambda, np.diag(np.diag(dot(Lambda.T,Lambda))))))\n",
    "        R = dot(u,vh)\n",
    "        d = sum(s)\n",
    "        if d/d_old < tol: break\n",
    "    return dot(Phi, R)\n",
    "\n",
    "# Création d'une matrice de données factices\n",
    "np.random.seed(0)\n",
    "Phi = np.random.rand(10, 3)\n",
    "\n",
    "# Application de la rotation VARIMAX à la matrice de données\n",
    "rotated_Phi = varimax(Phi)\n",
    "\n",
    "print(rotated_Phi)\n"
   ]
  },
  {
   "cell_type": "markdown",
   "metadata": {},
   "source": [
    "# ____________________________________________________"
   ]
  },
  {
   "cell_type": "markdown",
   "metadata": {},
   "source": [
    "# Modèle Prophet\n",
    "\n",
    "Le modèle **Prophet** est une méthode de prévision pour les données de séries temporelles univariées développée par Facebook. Prophet est conçu pour être facile à utiliser et à mettre en œuvre automatiquement, c'est-à-dire qu'il suffit de le pointer sur une série temporelle pour obtenir une prévision. Il est destiné à être utilisé en interne dans les entreprises, par exemple pour prévoir les ventes, la capacité, etc.\n",
    "\n",
    "Prophet peut être considéré comme un modèle de régression non linéaire. Il est composé de quatre éléments :\n",
    "- `g(t)` décrit une tendance linéaire par morceaux (ou \"terme de croissance\").\n",
    "- `s(t)` décrit les différents motifs saisonniers.\n",
    "- `h(t)` capture les effets des jours fériés.\n",
    "- `εt` est un terme d'erreur de bruit blanc.\n",
    "\n",
    "## Exemples d'utilisation du modèle Prophet\n",
    "\n",
    "### Exemple 1 : Prévision des ventes d'un magasin\n",
    "\n",
    "On peut utiliser le modèle Prophet pour analyser les données de ventes passées d'un magasin et prédire les ventes futures. Par exemple, si nous avons des données sur les ventes mensuelles d'un magasin au cours des deux dernières années, nous pouvons utiliser ces données pour ajuster un modèle Prophet et prévoir les ventes pour le mois prochain.\n",
    "\n",
    "### Exemple 2 : Prévision du nombre de passagers aériens\n",
    "\n",
    "Un autre exemple d'utilisation du modèle Prophet est la prévision du nombre de passagers aériens. Si nous avons des données sur le nombre mensuel de passagers aériens au cours des dix dernières années, nous pouvons utiliser ces données pour ajuster un modèle Prophet et prévoir le nombre de passagers pour le mois prochain.\n",
    "\n",
    "source - https://facebook.github.io/prophet/  \n",
    "source - https://medium.com/analytics-vidhya/how-does-prophet-work-44addaab6148  \n",
    "source - https://medium.com/codex/introduction-to-prophet-algorithm-a59e463a6c72  \n",
    "source - https://medium.com/future-vision/the-math-of-prophet-46864fa9c55a  \n",
    "\n",
    "en FR  \n",
    "source - https://ledatascientist.com/facebook-prophet-la-prevision-a-grande-echelle/   "
   ]
  },
  {
   "cell_type": "code",
   "execution_count": null,
   "metadata": {},
   "outputs": [],
   "source": []
  },
  {
   "cell_type": "code",
   "execution_count": 1,
   "metadata": {},
   "outputs": [
    {
     "ename": "SyntaxError",
     "evalue": "unterminated string literal (detected at line 5) (807147408.py, line 5)",
     "output_type": "error",
     "traceback": [
      "\u001b[1;36m  Cell \u001b[1;32mIn[1], line 5\u001b[1;36m\u001b[0m\n\u001b[1;33m    Création d'une série temporelle de données factices\u001b[0m\n\u001b[1;37m              ^\u001b[0m\n\u001b[1;31mSyntaxError\u001b[0m\u001b[1;31m:\u001b[0m unterminated string literal (detected at line 5)\n"
     ]
    }
   ],
   "source": [
    "# # !pip install fbprophet\n",
    "# import pandas as pd\n",
    "# from fbprophet import Prophet\n",
    "\n",
    "# # Création d'une série temporelle de données factices\n",
    "# df = pd.DataFrame({\n",
    "#   'ds': pd.date_range(start='2020-01-01', periods=100),\n",
    "#   'y': (0.5 * np.random.randn(100)).cumsum()\n",
    "# })\n",
    "\n",
    "# #  Ajustement du modèle Prophet\n",
    "# model = Prophet()\n",
    "# model.fit(df)\n",
    "\n",
    "#  # Prédiction des 10 prochaines valeurs\n",
    "# future = model.make_future_dataframe(periods=10)\n",
    "# pred = model.predict(future)\n",
    "\n",
    "# # Affichage des résultats\n",
    "# model.plot(pred)\n"
   ]
  },
  {
   "cell_type": "code",
   "execution_count": null,
   "metadata": {},
   "outputs": [],
   "source": []
  }
 ],
 "metadata": {
  "kernelspec": {
   "display_name": "base",
   "language": "python",
   "name": "python3"
  },
  "language_info": {
   "codemirror_mode": {
    "name": "ipython",
    "version": 3
   },
   "file_extension": ".py",
   "mimetype": "text/x-python",
   "name": "python",
   "nbconvert_exporter": "python",
   "pygments_lexer": "ipython3",
   "version": "3.10.8"
  },
  "orig_nbformat": 4
 },
 "nbformat": 4,
 "nbformat_minor": 2
}
